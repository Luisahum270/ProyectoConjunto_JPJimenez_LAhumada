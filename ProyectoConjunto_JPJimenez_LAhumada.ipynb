{
 "cells": [
  {
   "cell_type": "markdown",
   "id": "340e1b10",
   "metadata": {},
   "source": [
    "> ## Tarea 3: (Usando notebook de jupyter)** \n",
    "\n",
    "> Usando compresión de listas o funciones map(sino recuerda como funciona observar el siguiente enlace https://www.pythonforbeginners.com/lists/list-comprehensions-in-python/), resolver los siguientes ejercicios:\n",
    "\n",
    ">1. Resolver la siguiente ecuación recursiva usando funciones como se vió en clase\n",
    "$$ D_{n}=(n-1) D_{n-1}+(n-1) D_{n-2} \\quad n\\ge 3$$\n",
    "con $D_1=0$ y $D_2 = 1$\n",
    ">3. Count the number of spaces in the following string `variable =  relaciónn  requiere,  para obtener  el  valor  de un  cierto  término,  el conocimiento de los dos anteriores`.\n",
    ">4. Remove all of the vowels in a string [make a list of the non-vowels].\n",
    ">5. Find all of the words in a string that are less than 4 letters.\n",
    ">6. Use a dictionary comprehension to count the length of each word in a sentence.\n",
    ">7. Use a nested list comprehension to find all of the numbers from 1-1000 that are divisible by any single digit besides 1 (2-9). "
   ]
  },
  {
   "cell_type": "code",
   "execution_count": 1,
   "id": "52d248a4",
   "metadata": {},
   "outputs": [],
   "source": [
    "# codigo estudiante 1"
   ]
  },
  {
   "cell_type": "code",
   "execution_count": 2,
   "id": "7ea9f513",
   "metadata": {},
   "outputs": [],
   "source": [
    "#codigo estudiante 2\n"
   ]
  },
  {
   "cell_type": "markdown",
   "id": "850bb0c6",
   "metadata": {},
   "source": [
    "# Tarea\n",
    "\n",
    "# 1\n",
    "Como ejemplo simple de una simulación de Monte Carlo, considere calcular la probabilidad de una suma particular del lanzamiento de tres dados (cada dado tiene valores del uno al seis). Además cada dado tiene las siguientes carácterísticas: el primer dado no está cargado (distribución uniforme todos son equiprobables); el segundo y tercer dado están cargados basados en una distribución binomial con parámetros (`n=5, p=0.5` y `n=5, p=0.2`). Calcule la probabilidad de que la suma resultante sea 7, 14 o 18. "
   ]
  },
  {
   "cell_type": "code",
   "execution_count": 1,
   "id": "3fa8a3f2",
   "metadata": {},
   "outputs": [
    {
     "name": "stdout",
     "output_type": "stream",
     "text": [
      "La probabilidad de obtener una suma de 7 es 0.1267.\n",
      "La probabilidad de obtener una suma de 14 es 0.0137.\n",
      "La probabilidad de obtener una suma de 18 es 0.0000.\n"
     ]
    }
   ],
   "source": [
    "# Solución estudiante 1\n",
    "import numpy as np\n",
    "\n",
    "# Definir los parámetros de los dados\n",
    "n1, p1 = 1, 1/6 # Primer dado \"no cargado\"\n",
    "n2, p2 = 5, 0.5 # Segundo dado \"cargado\"\n",
    "n3, p3 = 5, 0.2 # Tercer dado \"cargado\"\n",
    "\n",
    "# Definimos la suma de los dados a calcular\n",
    "sumas = [7, 14, 18]\n",
    "\n",
    "# Realizamos la simulación de Monte Carlo\n",
    "N = int(1e6) # Número de tiradas de los dados\n",
    "contadores = {s: 0 for s in sumas} # Contadores para cada suma\n",
    "for i in range(N):\n",
    "    dado1 = np.random.choice(6) + 1 # Tirada del primer dado\n",
    "    dado2 = np.random.binomial(n2, p2) + 1 # Tirada del segundo dado cargado\n",
    "    dado3 = np.random.binomial(n3, p3) + 1 # Tirada del tercer dado cargado\n",
    "    suma = dado1 + dado2 + dado3 # Suma de los tres dados\n",
    "    if suma in sumas:\n",
    "        contadores[suma] += 1\n",
    "\n",
    "# Calcular las probabilidades\n",
    "probabilidades = {s: contadores[s] / N for s in sumas}\n",
    "\n",
    "# Imprimir los resultados\n",
    "for s in sumas:\n",
    "    print(f\"La probabilidad de obtener una suma de {s} es {probabilidades[s]:.4f}.\")\n"
   ]
  },
  {
   "cell_type": "code",
   "execution_count": 9,
   "id": "18e1212f",
   "metadata": {
    "scrolled": true
   },
   "outputs": [
    {
     "name": "stdout",
     "output_type": "stream",
     "text": [
      "La probabilidad de obtener una suma de 7 es 0.1267.\n",
      "La probabilidad de obtener una suma de 14 es 0.0137.\n",
      "La probabilidad de obtener una suma de 18 es 0.0000.\n"
     ]
    }
   ],
   "source": [
    "# solución estudiante 2 \n",
    "import numpy as np # importamos librerias que necesitamos \n",
    "import matplotlib.pyplot as plt\n",
    "import pandas as pd\n",
    "import os\n",
    "import scipy.stats as st\n",
    "\n",
    "# Definir los parámetros de los dados\n",
    "n1, p1 = 1, 1/6 # Primer dado no cargado\n",
    "n2, p2 = 5, 0.5 # Segundo dado cargado\n",
    "n3, p3 = 5, 0.2 # Tercer dado cargado\n",
    "\n",
    "# Definir la suma de los dados que queremos calcular\n",
    "sumas = [7, 14, 18]\n",
    "\n",
    "# Realizar la simulación de Monte Carlo\n",
    "N = int(1e6) # Número de tiradas de los dados\n",
    "contadores = {s: 0 for s in sumas} # Contadores para cada suma\n",
    "for i in range(N):\n",
    "    dado1 = np.random.choice(6) + 1 # Tirada del primer dado\n",
    "    dado2 = np.random.binomial(n2, p2) + 1 # Tirada del segundo dado cargado\n",
    "    dado3 = np.random.binomial(n3, p3) + 1 # Tirada del tercer dado cargado\n",
    "    suma = dado1 + dado2 + dado3 # Suma de los tres dados\n",
    "    if suma in sumas:\n",
    "        contadores[suma] += 1\n",
    "\n",
    "# Calcular las probabilidades\n",
    "probabilidades = {s: contadores[s] / N for s in sumas}\n",
    "\n",
    "# Imprimir los resultados\n",
    "for s in sumas:\n",
    "    print(f\"La probabilidad de obtener una suma de {s} es {probabilidades[s]:.4f}.\")"
   ]
  },
  {
   "cell_type": "code",
   "execution_count": null,
   "id": "43c5bc41",
   "metadata": {},
   "outputs": [],
   "source": []
  }
 ],
 "metadata": {
  "kernelspec": {
   "display_name": "Python 3 (ipykernel)",
   "language": "python",
   "name": "python3"
  },
  "language_info": {
   "codemirror_mode": {
    "name": "ipython",
    "version": 3
   },
   "file_extension": ".py",
   "mimetype": "text/x-python",
   "name": "python",
   "nbconvert_exporter": "python",
   "pygments_lexer": "ipython3",
   "version": "3.9.13"
  }
 },
 "nbformat": 4,
 "nbformat_minor": 5
}
