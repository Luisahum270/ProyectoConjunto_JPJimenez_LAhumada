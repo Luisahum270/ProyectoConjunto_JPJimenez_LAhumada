{
 "cells": [
  {
   "cell_type": "markdown",
   "id": "340e1b10",
   "metadata": {},
   "source": [
    "> ## Tarea 3: (Usando notebook de jupyter)** \n",
    "\n",
    "> Usando compresión de listas o funciones map(sino recuerda como funciona observar el siguiente enlace https://www.pythonforbeginners.com/lists/list-comprehensions-in-python/), resolver los siguientes ejercicios:\n",
    "\n",
    ">1. Resolver la siguiente ecuación recursiva usando funciones como se vió en clase\n",
    "$$ D_{n}=(n-1) D_{n-1}+(n-1) D_{n-2} \\quad n\\ge 3$$\n",
    "con $D_1=0$ y $D_2 = 1$\n",
    ">3. Count the number of spaces in the following string `variable =  relaciónn  requiere,  para obtener  el  valor  de un  cierto  término,  el conocimiento de los dos anteriores`.\n",
    ">4. Remove all of the vowels in a string [make a list of the non-vowels].\n",
    ">5. Find all of the words in a string that are less than 4 letters.\n",
    ">6. Use a dictionary comprehension to count the length of each word in a sentence.\n",
    ">7. Use a nested list comprehension to find all of the numbers from 1-1000 that are divisible by any single digit besides 1 (2-9). "
   ]
  },
  {
   "cell_type": "code",
   "execution_count": 1,
   "id": "52d248a4",
   "metadata": {},
   "outputs": [],
   "source": [
    "# codigo estudiante 1"
   ]
  },
  {
   "cell_type": "code",
   "execution_count": 2,
   "id": "7ea9f513",
   "metadata": {},
   "outputs": [],
   "source": [
    "#codigo estudiante 2\n"
   ]
  },
  {
   "cell_type": "markdown",
   "id": "10ccc8aa",
   "metadata": {},
   "source": [
    "# Tarea\n",
    "\n",
    "# 1\n",
    "Como ejemplo simple de una simulación de Monte Carlo, considere calcular la probabilidad de una suma particular del lanzamiento de tres dados (cada dado tiene valores del uno al seis). Además cada dado tiene las siguientes carácterísticas: el primer dado no está cargado (distribución uniforme todos son equiprobables); el segundo y tercer dado están cargados basados en una distribución binomial con parámetros (`n=5, p=0.5` y `n=5, p=0.2`). Calcule la probabilidad de que la suma resultante sea 7, 14 o 18. "
   ]
  },
  {
   "cell_type": "code",
   "execution_count": 1,
   "id": "8404d45a",
   "metadata": {},
   "outputs": [
    {
     "name": "stdout",
     "output_type": "stream",
     "text": [
      "La probabilidad de obtener una suma de 7 es 0.1267.\n",
      "La probabilidad de obtener una suma de 14 es 0.0137.\n",
      "La probabilidad de obtener una suma de 18 es 0.0000.\n"
     ]
    }
   ],
   "source": [
    "# Solución estudiante 1\n",
    "import numpy as np\n",
    "\n",
    "# Definir los parámetros de los dados\n",
    "n1, p1 = 1, 1/6 # Primer dado no cargado\n",
    "n2, p2 = 5, 0.5 # Segundo dado cargado\n",
    "n3, p3 = 5, 0.2 # Tercer dado cargado\n",
    "\n",
    "# Definir la suma de los dados que queremos calcular\n",
    "sumas = [7, 14, 18]\n",
    "\n",
    "# Realizar la simulación de Monte Carlo\n",
    "N = int(1e6) # Número de tiradas de los dados\n",
    "contadores = {s: 0 for s in sumas} # Contadores para cada suma\n",
    "for i in range(N):\n",
    "    dado1 = np.random.choice(6) + 1 # Tirada del primer dado\n",
    "    dado2 = np.random.binomial(n2, p2) + 1 # Tirada del segundo dado cargado\n",
    "    dado3 = np.random.binomial(n3, p3) + 1 # Tirada del tercer dado cargado\n",
    "    suma = dado1 + dado2 + dado3 # Suma de los tres dados\n",
    "    if suma in sumas:\n",
    "        contadores[suma] += 1\n",
    "\n",
    "# Calcular las probabilidades\n",
    "probabilidades = {s: contadores[s] / N for s in sumas}\n",
    "\n",
    "# Imprimir los resultados\n",
    "for s in sumas:\n",
    "    print(f\"La probabilidad de obtener una suma de {s} es {probabilidades[s]:.4f}.\")\n"
   ]
  },
  {
   "cell_type": "markdown",
<<<<<<< HEAD
   "id": "3c3400c4",
=======
   "id": "a700559f",
>>>>>>> parent of 88e7455... cambios 2
   "metadata": {},
   "source": [
    "# 2 Ejercicio de aplicación- Cafetería Central\n",
    "\n",
    "Premisas para la simulación:\n",
    "- Negocio de alimentos que vende bebidas y alimentos.\n",
    "- Negocio dentro del ITESO.\n",
    "- Negocio en cafetería central.\n",
    "- Tipo de clientes (hombres y mujeres).\n",
    "- Rentabilidad del 60%.\n",
    "\n",
    "## Objetivo\n",
    "Realizar una simulación estimado el tiempo medio que se tardaran los clientes en ser atendidos entre el horario de 6:30 a 1 pm. Además saber el consumo. \n",
    "**Analizar supuestos y limitantes**"
   ]
  },
  {
   "cell_type": "code",
   "execution_count": 5,
<<<<<<< HEAD
   "id": "e66a2453",
=======
   "id": "c827bae6",
>>>>>>> parent of 88e7455... cambios 2
   "metadata": {},
   "outputs": [],
   "source": [
    "################## Datos del problema\n",
    "d = 5\n",
    "T =25200\n",
    "T_at_min = 5; T_at_max = 30\n",
    "T_mujer_min =60; T_mujer_max = 300\n",
    "T_hombre_min = 40; T_hombre_max = 120\n",
    "C_mujer_min = 30; C_mujer_max = 100\n",
    "C_hombre_min = 20; C_hombre_max = 80\n"
   ]
  },
  {
   "cell_type": "code",
<<<<<<< HEAD
   "execution_count": 8,
   "id": "c48e247e",
   "metadata": {},
   "outputs": [
    {
     "name": "stdout",
     "output_type": "stream",
     "text": [
      "Resultados de la simulación:\n",
      "Tiempo medio de atención: 130.38 segundos\n",
      "Número de personas atendidas por día: 1458.00\n",
      "Gasto promedio de mujeres: 91736.17 pesos\n",
      "Gasto promedio de hombres: 72313.87 pesos\n",
      "Ganancia promedio: 83379.15 pesos\n",
      "Rentabilidad: 37.50%\n"
=======
   "execution_count": 6,
   "id": "126f97d4",
   "metadata": {},
   "outputs": [
    {
     "ename": "TypeError",
     "evalue": "simulacion() missing 1 required positional argument: 'num_dias'",
     "output_type": "error",
     "traceback": [
      "\u001b[0;31m---------------------------------------------------------------------------\u001b[0m",
      "\u001b[0;31mTypeError\u001b[0m                                 Traceback (most recent call last)",
      "Input \u001b[0;32mIn [6]\u001b[0m, in \u001b[0;36m<cell line: 75>\u001b[0;34m()\u001b[0m\n\u001b[1;32m     72\u001b[0m     \u001b[38;5;28mprint\u001b[39m(\u001b[38;5;124mf\u001b[39m\u001b[38;5;124m\"\u001b[39m\u001b[38;5;124mRentabilidad: \u001b[39m\u001b[38;5;132;01m{\u001b[39;00mrentabilidad\u001b[38;5;132;01m:\u001b[39;00m\u001b[38;5;124m.2%\u001b[39m\u001b[38;5;132;01m}\u001b[39;00m\u001b[38;5;124m\"\u001b[39m)\n\u001b[1;32m     74\u001b[0m \u001b[38;5;66;03m# Correr la simulación\u001b[39;00m\n\u001b[0;32m---> 75\u001b[0m \u001b[43msimulacion\u001b[49m\u001b[43m(\u001b[49m\u001b[43m)\u001b[49m\n",
      "\u001b[0;31mTypeError\u001b[0m: simulacion() missing 1 required positional argument: 'num_dias'"
>>>>>>> parent of 88e7455... cambios 2
     ]
    }
   ],
   "source": [
    "import numpy as np\n",
    "\n",
    "np.random.seed(42)  # fijar semilla para reproducibilidad\n",
    "\n",
    "# Clasificación de clientes\n",
    "def tipo_cliente():\n",
    "    if np.random.uniform() < 0.5:\n",
    "        return \"mujer\"\n",
    "    else:\n",
    "        return \"hombre\"\n",
    "\n",
    "# Tiempo entre llegadas de clientes\n",
    "def tiempo_llegada():\n",
    "    return np.random.uniform(5, 30)\n",
    "\n",
    "# Tiempo de atención de un cliente\n",
    "def tiempo_atencion(cliente):\n",
    "    if cliente == \"mujer\":\n",
    "        return np.random.uniform(T_mujer_min, T_mujer_max)\n",
    "    else:\n",
    "        return np.random.uniform(T_hombre_min, T_hombre_max)\n",
    "\n",
    "# Consumo de un cliente\n",
    "def consumo(cliente):\n",
    "    if cliente == \"mujer\":\n",
    "        return np.random.uniform(C_mujer_min, C_mujer_max)\n",
    "    else:\n",
    "        return np.random.uniform(C_hombre_min, C_hombre_max)\n",
    "\n",
    "# Simulación de la cafetería\n",
    "def simulacion(num_dias):\n",
    "    tiempo_total = 0\n",
    "    clientes_atendidos = 0\n",
    "    ganancia_total = 0\n",
    "    hombres_gasto_total = 0\n",
    "    mujeres_gasto_total = 0\n",
    "    \n",
    "    for dia in range(num_dias):\n",
    "        tiempo = 0\n",
    "        cola = []\n",
    "        while tiempo < T:\n",
    "            tiempo_llegada_cliente = tiempo_llegada()\n",
    "            tiempo += tiempo_llegada_cliente\n",
    "            cliente = tipo_cliente()\n",
    "            cola.append((tiempo, cliente))\n",
    "\n",
    "        while len(cola) > 0:\n",
    "            tiempo, cliente = cola.pop(0)\n",
    "            tiempo_espera = max(0, tiempo - tiempo_total)\n",
    "            tiempo_atencion_cliente = tiempo_atencion(cliente)\n",
    "            tiempo_total += tiempo_espera + tiempo_atencion_cliente\n",
    "            clientes_atendidos += 1\n",
    "            ganancia_total += consumo(cliente)\n",
    "            if cliente == \"mujer\":\n",
    "                mujeres_gasto_total += consumo(cliente)\n",
    "            else:\n",
    "                hombres_gasto_total += consumo(cliente)\n",
    "\n",
    "    tiempo_medio_atencion = tiempo_total / clientes_atendidos\n",
    "    numero_personas_atendidas = clientes_atendidos / num_dias\n",
    "    gasto_promedio_mujeres = mujeres_gasto_total / (num_dias * 0.5)\n",
    "    gasto_promedio_hombres = hombres_gasto_total / (num_dias * 0.5)\n",
    "    ganancia_promedio = ganancia_total / num_dias\n",
    "    rentabilidad = ganancia_promedio / (ganancia_promedio + (ganancia_promedio / 0.6))\n",
    "    \n",
    "    print(\"Resultados de la simulación:\")\n",
    "    print(f\"Tiempo medio de atención: {tiempo_medio_atencion:.2f} segundos\")\n",
    "    print(f\"Número de personas atendidas por día: {numero_personas_atendidas:.2f}\")\n",
    "    print(f\"Gasto promedio de mujeres: {gasto_promedio_mujeres:.2f} pesos\")\n",
    "    print(f\"Gasto promedio de hombres: {gasto_promedio_hombres:.2f} pesos\")\n",
    "    print(f\"Ganancia promedio: {ganancia_promedio:.2f} pesos\")\n",
    "    print(f\"Rentabilidad: {rentabilidad:.2%}\")\n",
    "\n",
    "# Correr la simulación\n",
<<<<<<< HEAD
    "simulacion(1)\n"
=======
    "simulacion()\n"
>>>>>>> parent of 88e7455... cambios 2
   ]
  },
  {
   "cell_type": "code",
   "execution_count": null,
<<<<<<< HEAD
   "id": "12afd834",
=======
   "id": "20054434",
>>>>>>> parent of 88e7455... cambios 2
   "metadata": {},
   "outputs": [],
   "source": []
  }
 ],
 "metadata": {
  "kernelspec": {
   "display_name": "Python 3 (ipykernel)",
   "language": "python",
   "name": "python3"
  },
  "language_info": {
   "codemirror_mode": {
    "name": "ipython",
    "version": 3
   },
   "file_extension": ".py",
   "mimetype": "text/x-python",
   "name": "python",
   "nbconvert_exporter": "python",
   "pygments_lexer": "ipython3",
   "version": "3.9.12"
  }
 },
 "nbformat": 4,
 "nbformat_minor": 5
}
